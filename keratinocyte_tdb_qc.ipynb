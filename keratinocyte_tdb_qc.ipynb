{
 "cells": [
  {
   "cell_type": "code",
   "execution_count": 13,
   "metadata": {
    "ExecuteTime": {
     "end_time": "2020-04-04T20:25:42.168320Z",
     "start_time": "2020-04-04T20:25:42.162853Z"
    }
   },
   "outputs": [],
   "source": [
    "import tiledb \n",
    "import numpy as np "
   ]
  },
  {
   "cell_type": "code",
   "execution_count": 2,
   "metadata": {
    "ExecuteTime": {
     "end_time": "2020-04-04T19:58:38.336897Z",
     "start_time": "2020-04-04T19:58:27.820284Z"
    }
   },
   "outputs": [],
   "source": [
    "db=tiledb.open(\"/oak/stanford/groups/akundaje/projects/keratinocyte_models/db_keratinocyte\",mode='r')"
   ]
  },
  {
   "cell_type": "code",
   "execution_count": 3,
   "metadata": {
    "ExecuteTime": {
     "end_time": "2020-04-04T20:01:59.960690Z",
     "start_time": "2020-04-04T20:01:59.954881Z"
    }
   },
   "outputs": [],
   "source": [
    "attribute=\"100bp_peak\""
   ]
  },
  {
   "cell_type": "code",
   "execution_count": 4,
   "metadata": {
    "ExecuteTime": {
     "end_time": "2020-04-04T20:02:10.311600Z",
     "start_time": "2020-04-04T20:02:10.273653Z"
    }
   },
   "outputs": [
    {
     "data": {
      "text/plain": [
       "(('chrom_0', 'chr1'),\n",
       " ('chrom_1', 'chr2'),\n",
       " ('chrom_10', 'chr11'),\n",
       " ('chrom_11', 'chr12'),\n",
       " ('chrom_12', 'chr13'),\n",
       " ('chrom_13', 'chr14'),\n",
       " ('chrom_14', 'chr15'),\n",
       " ('chrom_15', 'chr16'),\n",
       " ('chrom_16', 'chr17'),\n",
       " ('chrom_17', 'chr18'),\n",
       " ('chrom_18', 'chr19'),\n",
       " ('chrom_19', 'chr20'),\n",
       " ('chrom_2', 'chr3'),\n",
       " ('chrom_20', 'chr21'),\n",
       " ('chrom_21', 'chr22'),\n",
       " ('chrom_22', 'chrX'),\n",
       " ('chrom_23', 'chrY'),\n",
       " ('chrom_3', 'chr4'),\n",
       " ('chrom_4', 'chr5'),\n",
       " ('chrom_5', 'chr6'),\n",
       " ('chrom_6', 'chr7'),\n",
       " ('chrom_7', 'chr8'),\n",
       " ('chrom_8', 'chr9'),\n",
       " ('chrom_9', 'chr10'),\n",
       " ('num_chroms', 24),\n",
       " ('num_tasks', 13),\n",
       " ('offset_0', 0),\n",
       " ('offset_1', 248956422),\n",
       " ('offset_10', 1808681051),\n",
       " ('offset_11', 1943767673),\n",
       " ('offset_12', 2077042982),\n",
       " ('offset_13', 2191407310),\n",
       " ('offset_14', 2298451028),\n",
       " ('offset_15', 2400442217),\n",
       " ('offset_16', 2490780562),\n",
       " ('offset_17', 2574038003),\n",
       " ('offset_18', 2654411288),\n",
       " ('offset_19', 2713028904),\n",
       " ('offset_2', 491149951),\n",
       " ('offset_20', 2777473071),\n",
       " ('offset_21', 2824183054),\n",
       " ('offset_22', 2875001522),\n",
       " ('offset_23', 3031042417),\n",
       " ('offset_3', 689445510),\n",
       " ('offset_4', 879660065),\n",
       " ('offset_5', 1061198324),\n",
       " ('offset_6', 1232004303),\n",
       " ('offset_7', 1391350276),\n",
       " ('offset_8', 1536488912),\n",
       " ('offset_9', 1674883629),\n",
       " ('size_0', 248956422),\n",
       " ('size_1', 242193529),\n",
       " ('size_10', 135086622),\n",
       " ('size_11', 133275309),\n",
       " ('size_12', 114364328),\n",
       " ('size_13', 107043718),\n",
       " ('size_14', 101991189),\n",
       " ('size_15', 90338345),\n",
       " ('size_16', 83257441),\n",
       " ('size_17', 80373285),\n",
       " ('size_18', 58617616),\n",
       " ('size_19', 64444167),\n",
       " ('size_2', 198295559),\n",
       " ('size_20', 46709983),\n",
       " ('size_21', 50818468),\n",
       " ('size_22', 156040895),\n",
       " ('size_23', 57227415),\n",
       " ('size_3', 190214555),\n",
       " ('size_4', 181538259),\n",
       " ('size_5', 170805979),\n",
       " ('size_6', 159345973),\n",
       " ('size_7', 145138636),\n",
       " ('size_8', 138394717),\n",
       " ('size_9', 133797422),\n",
       " ('task_0', 'keratinocytes-0.5d'),\n",
       " ('task_1', 'keratinocytes-0h'),\n",
       " ('task_10', 'keratinocytes-2.5d'),\n",
       " ('task_11', 'keratinocytes-4d'),\n",
       " ('task_12', 'keratinocytes-3.5d'),\n",
       " ('task_2', 'keratinocytes-5.5d'),\n",
       " ('task_3', 'keratinocytes-1d'),\n",
       " ('task_4', 'keratinocytes-4.5d'),\n",
       " ('task_5', 'keratinocytes-1.5d'),\n",
       " ('task_6', 'keratinocytes-6d'),\n",
       " ('task_7', 'keratinocytes-5d'),\n",
       " ('task_8', 'keratinocytes-2d'),\n",
       " ('task_9', 'keratinocytes-3d'))"
      ]
     },
     "execution_count": 4,
     "metadata": {},
     "output_type": "execute_result"
    }
   ],
   "source": [
    "db.meta.items()"
   ]
  },
  {
   "cell_type": "code",
   "execution_count": 7,
   "metadata": {
    "ExecuteTime": {
     "end_time": "2020-04-04T20:12:15.652808Z",
     "start_time": "2020-04-04T20:09:36.876274Z"
    }
   },
   "outputs": [],
   "source": [
    "#chrom 1 values \n",
    "vals=db.query(attrs=['100bp_peak','200bp_peak','500bp_peak'])[0:248956422,1]"
   ]
  },
  {
   "cell_type": "code",
   "execution_count": 15,
   "metadata": {
    "ExecuteTime": {
     "end_time": "2020-04-04T20:25:52.036058Z",
     "start_time": "2020-04-04T20:25:51.455036Z"
    }
   },
   "outputs": [
    {
     "data": {
      "text/plain": [
       "9355"
      ]
     },
     "execution_count": 15,
     "metadata": {},
     "output_type": "execute_result"
    }
   ],
   "source": [
    "bp100=vals['100bp_peak']\n",
    "upsampled_100=bp100>=2\n",
    "np.sum(upsampled_100)"
   ]
  },
  {
   "cell_type": "code",
   "execution_count": 16,
   "metadata": {
    "ExecuteTime": {
     "end_time": "2020-04-04T20:25:55.994415Z",
     "start_time": "2020-04-04T20:25:55.435518Z"
    }
   },
   "outputs": [
    {
     "data": {
      "text/plain": [
       "14648"
      ]
     },
     "execution_count": 16,
     "metadata": {},
     "output_type": "execute_result"
    }
   ],
   "source": [
    "bp200=vals['200bp_peak']\n",
    "upsampled_200=bp200>=2\n",
    "np.sum(upsampled_200)"
   ]
  },
  {
   "cell_type": "code",
   "execution_count": 17,
   "metadata": {
    "ExecuteTime": {
     "end_time": "2020-04-04T20:25:57.678824Z",
     "start_time": "2020-04-04T20:25:56.791813Z"
    }
   },
   "outputs": [
    {
     "data": {
      "text/plain": [
       "18297"
      ]
     },
     "execution_count": 17,
     "metadata": {},
     "output_type": "execute_result"
    }
   ],
   "source": [
    "bp500=vals['500bp_peak']\n",
    "upsampled_500=bp500>=2\n",
    "np.sum(upsampled_500)"
   ]
  },
  {
   "cell_type": "code",
   "execution_count": 18,
   "metadata": {
    "ExecuteTime": {
     "end_time": "2020-04-04T20:31:36.072048Z",
     "start_time": "2020-04-04T20:31:34.089297Z"
    }
   },
   "outputs": [],
   "source": [
    "import pandas as pd "
   ]
  },
  {
   "cell_type": "code",
   "execution_count": 19,
   "metadata": {
    "ExecuteTime": {
     "end_time": "2020-04-04T20:31:46.593057Z",
     "start_time": "2020-04-04T20:31:46.539428Z"
    }
   },
   "outputs": [],
   "source": [
    "data=pd.read_csv(\"test.set.0.keratinocyte-0h.100bp.bed\",header=None,sep='\\t')"
   ]
  },
  {
   "cell_type": "code",
   "execution_count": 31,
   "metadata": {
    "ExecuteTime": {
     "end_time": "2020-04-04T20:34:04.273490Z",
     "start_time": "2020-04-04T20:34:04.265790Z"
    }
   },
   "outputs": [
    {
     "data": {
      "text/plain": [
       "(18734, 10)"
      ]
     },
     "execution_count": 31,
     "metadata": {},
     "output_type": "execute_result"
    }
   ],
   "source": [
    "data.shape"
   ]
  },
  {
   "cell_type": "code",
   "execution_count": 33,
   "metadata": {
    "ExecuteTime": {
     "end_time": "2020-04-04T20:35:46.582228Z",
     "start_time": "2020-04-04T20:35:46.562576Z"
    }
   },
   "outputs": [
    {
     "data": {
      "text/plain": [
       "9355"
      ]
     },
     "execution_count": 33,
     "metadata": {},
     "output_type": "execute_result"
    }
   ],
   "source": [
    "sum(((data[1]+data[9])<data[2]) & (data[1]+data[9]>data[1]))"
   ]
  },
  {
   "cell_type": "code",
   "execution_count": null,
   "metadata": {},
   "outputs": [],
   "source": []
  }
 ],
 "metadata": {
  "kernelspec": {
   "display_name": "Python 3",
   "language": "python",
   "name": "python3"
  },
  "language_info": {
   "codemirror_mode": {
    "name": "ipython",
    "version": 3
   },
   "file_extension": ".py",
   "mimetype": "text/x-python",
   "name": "python",
   "nbconvert_exporter": "python",
   "pygments_lexer": "ipython3",
   "version": "3.7.0"
  }
 },
 "nbformat": 4,
 "nbformat_minor": 2
}
