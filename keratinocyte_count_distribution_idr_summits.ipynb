{
 "cells": [
  {
   "cell_type": "code",
   "execution_count": 54,
   "metadata": {
    "ExecuteTime": {
     "end_time": "2020-04-06T03:59:41.768674Z",
     "start_time": "2020-04-06T03:59:41.762864Z"
    }
   },
   "outputs": [],
   "source": [
    "import pandas as pd\n",
    "import numpy as np "
   ]
  },
  {
   "cell_type": "code",
   "execution_count": 106,
   "metadata": {
    "ExecuteTime": {
     "end_time": "2020-04-06T04:06:27.489153Z",
     "start_time": "2020-04-06T04:06:27.391958Z"
    }
   },
   "outputs": [],
   "source": [
    "counts=pd.read_csv(\"coverage.counts.txt\",header=None,sep='\\t')"
   ]
  },
  {
   "cell_type": "code",
   "execution_count": 107,
   "metadata": {
    "ExecuteTime": {
     "end_time": "2020-04-06T04:06:27.532249Z",
     "start_time": "2020-04-06T04:06:27.512791Z"
    }
   },
   "outputs": [
    {
     "data": {
      "text/html": [
       "<div>\n",
       "<style scoped>\n",
       "    .dataframe tbody tr th:only-of-type {\n",
       "        vertical-align: middle;\n",
       "    }\n",
       "\n",
       "    .dataframe tbody tr th {\n",
       "        vertical-align: top;\n",
       "    }\n",
       "\n",
       "    .dataframe thead th {\n",
       "        text-align: right;\n",
       "    }\n",
       "</style>\n",
       "<table border=\"1\" class=\"dataframe\">\n",
       "  <thead>\n",
       "    <tr style=\"text-align: right;\">\n",
       "      <th></th>\n",
       "      <th>0</th>\n",
       "      <th>1</th>\n",
       "      <th>2</th>\n",
       "      <th>3</th>\n",
       "    </tr>\n",
       "  </thead>\n",
       "  <tbody>\n",
       "    <tr>\n",
       "      <th>0</th>\n",
       "      <td>chr1</td>\n",
       "      <td>55880</td>\n",
       "      <td>56880</td>\n",
       "      <td>196.0</td>\n",
       "    </tr>\n",
       "    <tr>\n",
       "      <th>1</th>\n",
       "      <td>chr1</td>\n",
       "      <td>628644</td>\n",
       "      <td>629644</td>\n",
       "      <td>29869.0</td>\n",
       "    </tr>\n",
       "    <tr>\n",
       "      <th>2</th>\n",
       "      <td>chr1</td>\n",
       "      <td>629296</td>\n",
       "      <td>630296</td>\n",
       "      <td>82801.0</td>\n",
       "    </tr>\n",
       "    <tr>\n",
       "      <th>3</th>\n",
       "      <td>chr1</td>\n",
       "      <td>629892</td>\n",
       "      <td>630892</td>\n",
       "      <td>41832.0</td>\n",
       "    </tr>\n",
       "    <tr>\n",
       "      <th>4</th>\n",
       "      <td>chr1</td>\n",
       "      <td>630619</td>\n",
       "      <td>631619</td>\n",
       "      <td>32133.0</td>\n",
       "    </tr>\n",
       "  </tbody>\n",
       "</table>\n",
       "</div>"
      ],
      "text/plain": [
       "      0       1       2        3\n",
       "0  chr1   55880   56880    196.0\n",
       "1  chr1  628644  629644  29869.0\n",
       "2  chr1  629296  630296  82801.0\n",
       "3  chr1  629892  630892  41832.0\n",
       "4  chr1  630619  631619  32133.0"
      ]
     },
     "execution_count": 107,
     "metadata": {},
     "output_type": "execute_result"
    }
   ],
   "source": [
    "counts.head()"
   ]
  },
  {
   "cell_type": "code",
   "execution_count": 108,
   "metadata": {
    "ExecuteTime": {
     "end_time": "2020-04-06T04:06:27.702769Z",
     "start_time": "2020-04-06T04:06:27.642346Z"
    }
   },
   "outputs": [
    {
     "data": {
      "text/html": [
       "<div>\n",
       "<style scoped>\n",
       "    .dataframe tbody tr th:only-of-type {\n",
       "        vertical-align: middle;\n",
       "    }\n",
       "\n",
       "    .dataframe tbody tr th {\n",
       "        vertical-align: top;\n",
       "    }\n",
       "\n",
       "    .dataframe thead th {\n",
       "        text-align: right;\n",
       "    }\n",
       "</style>\n",
       "<table border=\"1\" class=\"dataframe\">\n",
       "  <thead>\n",
       "    <tr style=\"text-align: right;\">\n",
       "      <th></th>\n",
       "      <th>0</th>\n",
       "      <th>1</th>\n",
       "      <th>2</th>\n",
       "      <th>3</th>\n",
       "    </tr>\n",
       "  </thead>\n",
       "  <tbody>\n",
       "    <tr>\n",
       "      <th>2</th>\n",
       "      <td>chr1</td>\n",
       "      <td>629296</td>\n",
       "      <td>630296</td>\n",
       "      <td>82801.0</td>\n",
       "    </tr>\n",
       "    <tr>\n",
       "      <th>6</th>\n",
       "      <td>chr1</td>\n",
       "      <td>633535</td>\n",
       "      <td>634535</td>\n",
       "      <td>55548.0</td>\n",
       "    </tr>\n",
       "    <tr>\n",
       "      <th>3</th>\n",
       "      <td>chr1</td>\n",
       "      <td>629892</td>\n",
       "      <td>630892</td>\n",
       "      <td>41832.0</td>\n",
       "    </tr>\n",
       "    <tr>\n",
       "      <th>5</th>\n",
       "      <td>chr1</td>\n",
       "      <td>632061</td>\n",
       "      <td>633061</td>\n",
       "      <td>35074.0</td>\n",
       "    </tr>\n",
       "    <tr>\n",
       "      <th>4</th>\n",
       "      <td>chr1</td>\n",
       "      <td>630619</td>\n",
       "      <td>631619</td>\n",
       "      <td>32133.0</td>\n",
       "    </tr>\n",
       "    <tr>\n",
       "      <th>1</th>\n",
       "      <td>chr1</td>\n",
       "      <td>628644</td>\n",
       "      <td>629644</td>\n",
       "      <td>29869.0</td>\n",
       "    </tr>\n",
       "    <tr>\n",
       "      <th>75858</th>\n",
       "      <td>chr17</td>\n",
       "      <td>22520940</td>\n",
       "      <td>22521940</td>\n",
       "      <td>27653.0</td>\n",
       "    </tr>\n",
       "    <tr>\n",
       "      <th>7</th>\n",
       "      <td>chr1</td>\n",
       "      <td>634358</td>\n",
       "      <td>635358</td>\n",
       "      <td>20212.0</td>\n",
       "    </tr>\n",
       "    <tr>\n",
       "      <th>154484</th>\n",
       "      <td>chr5</td>\n",
       "      <td>134926591</td>\n",
       "      <td>134927591</td>\n",
       "      <td>18456.0</td>\n",
       "    </tr>\n",
       "    <tr>\n",
       "      <th>163524</th>\n",
       "      <td>chr6</td>\n",
       "      <td>52503699</td>\n",
       "      <td>52504699</td>\n",
       "      <td>18311.0</td>\n",
       "    </tr>\n",
       "    <tr>\n",
       "      <th>130772</th>\n",
       "      <td>chr3</td>\n",
       "      <td>167734508</td>\n",
       "      <td>167735508</td>\n",
       "      <td>16986.0</td>\n",
       "    </tr>\n",
       "    <tr>\n",
       "      <th>126703</th>\n",
       "      <td>chr3</td>\n",
       "      <td>115147065</td>\n",
       "      <td>115148065</td>\n",
       "      <td>16610.0</td>\n",
       "    </tr>\n",
       "    <tr>\n",
       "      <th>182090</th>\n",
       "      <td>chr7</td>\n",
       "      <td>143836392</td>\n",
       "      <td>143837392</td>\n",
       "      <td>16301.0</td>\n",
       "    </tr>\n",
       "    <tr>\n",
       "      <th>29650</th>\n",
       "      <td>chr11</td>\n",
       "      <td>6234340</td>\n",
       "      <td>6235340</td>\n",
       "      <td>16285.0</td>\n",
       "    </tr>\n",
       "    <tr>\n",
       "      <th>35227</th>\n",
       "      <td>chr11</td>\n",
       "      <td>83156329</td>\n",
       "      <td>83157329</td>\n",
       "      <td>16067.0</td>\n",
       "    </tr>\n",
       "    <tr>\n",
       "      <th>154483</th>\n",
       "      <td>chr5</td>\n",
       "      <td>134924772</td>\n",
       "      <td>134925772</td>\n",
       "      <td>15555.0</td>\n",
       "    </tr>\n",
       "    <tr>\n",
       "      <th>22141</th>\n",
       "      <td>chr10</td>\n",
       "      <td>47481101</td>\n",
       "      <td>47482101</td>\n",
       "      <td>15347.0</td>\n",
       "    </tr>\n",
       "    <tr>\n",
       "      <th>151552</th>\n",
       "      <td>chr5</td>\n",
       "      <td>94569938</td>\n",
       "      <td>94570938</td>\n",
       "      <td>14899.0</td>\n",
       "    </tr>\n",
       "    <tr>\n",
       "      <th>126749</th>\n",
       "      <td>chr3</td>\n",
       "      <td>115783892</td>\n",
       "      <td>115784892</td>\n",
       "      <td>14709.0</td>\n",
       "    </tr>\n",
       "    <tr>\n",
       "      <th>33286</th>\n",
       "      <td>chr11</td>\n",
       "      <td>59615525</td>\n",
       "      <td>59616525</td>\n",
       "      <td>14633.0</td>\n",
       "    </tr>\n",
       "    <tr>\n",
       "      <th>118945</th>\n",
       "      <td>chr3</td>\n",
       "      <td>4978458</td>\n",
       "      <td>4979458</td>\n",
       "      <td>14154.0</td>\n",
       "    </tr>\n",
       "    <tr>\n",
       "      <th>190054</th>\n",
       "      <td>chr8</td>\n",
       "      <td>109333800</td>\n",
       "      <td>109334800</td>\n",
       "      <td>14102.0</td>\n",
       "    </tr>\n",
       "    <tr>\n",
       "      <th>18437</th>\n",
       "      <td>chr1</td>\n",
       "      <td>244652403</td>\n",
       "      <td>244653403</td>\n",
       "      <td>13681.0</td>\n",
       "    </tr>\n",
       "    <tr>\n",
       "      <th>144236</th>\n",
       "      <td>chr4</td>\n",
       "      <td>165327010</td>\n",
       "      <td>165328010</td>\n",
       "      <td>13257.0</td>\n",
       "    </tr>\n",
       "    <tr>\n",
       "      <th>54361</th>\n",
       "      <td>chr13</td>\n",
       "      <td>97432701</td>\n",
       "      <td>97433701</td>\n",
       "      <td>13185.0</td>\n",
       "    </tr>\n",
       "    <tr>\n",
       "      <th>156214</th>\n",
       "      <td>chr5</td>\n",
       "      <td>151771121</td>\n",
       "      <td>151772121</td>\n",
       "      <td>12976.0</td>\n",
       "    </tr>\n",
       "    <tr>\n",
       "      <th>127053</th>\n",
       "      <td>chr3</td>\n",
       "      <td>120094459</td>\n",
       "      <td>120095459</td>\n",
       "      <td>12902.0</td>\n",
       "    </tr>\n",
       "    <tr>\n",
       "      <th>49674</th>\n",
       "      <td>chr12</td>\n",
       "      <td>127125535</td>\n",
       "      <td>127126535</td>\n",
       "      <td>12886.0</td>\n",
       "    </tr>\n",
       "    <tr>\n",
       "      <th>121435</th>\n",
       "      <td>chr3</td>\n",
       "      <td>36992770</td>\n",
       "      <td>36993770</td>\n",
       "      <td>12855.0</td>\n",
       "    </tr>\n",
       "    <tr>\n",
       "      <th>56590</th>\n",
       "      <td>chr14</td>\n",
       "      <td>32484242</td>\n",
       "      <td>32485242</td>\n",
       "      <td>12771.0</td>\n",
       "    </tr>\n",
       "  </tbody>\n",
       "</table>\n",
       "</div>"
      ],
      "text/plain": [
       "            0          1          2        3\n",
       "2        chr1     629296     630296  82801.0\n",
       "6        chr1     633535     634535  55548.0\n",
       "3        chr1     629892     630892  41832.0\n",
       "5        chr1     632061     633061  35074.0\n",
       "4        chr1     630619     631619  32133.0\n",
       "1        chr1     628644     629644  29869.0\n",
       "75858   chr17   22520940   22521940  27653.0\n",
       "7        chr1     634358     635358  20212.0\n",
       "154484   chr5  134926591  134927591  18456.0\n",
       "163524   chr6   52503699   52504699  18311.0\n",
       "130772   chr3  167734508  167735508  16986.0\n",
       "126703   chr3  115147065  115148065  16610.0\n",
       "182090   chr7  143836392  143837392  16301.0\n",
       "29650   chr11    6234340    6235340  16285.0\n",
       "35227   chr11   83156329   83157329  16067.0\n",
       "154483   chr5  134924772  134925772  15555.0\n",
       "22141   chr10   47481101   47482101  15347.0\n",
       "151552   chr5   94569938   94570938  14899.0\n",
       "126749   chr3  115783892  115784892  14709.0\n",
       "33286   chr11   59615525   59616525  14633.0\n",
       "118945   chr3    4978458    4979458  14154.0\n",
       "190054   chr8  109333800  109334800  14102.0\n",
       "18437    chr1  244652403  244653403  13681.0\n",
       "144236   chr4  165327010  165328010  13257.0\n",
       "54361   chr13   97432701   97433701  13185.0\n",
       "156214   chr5  151771121  151772121  12976.0\n",
       "127053   chr3  120094459  120095459  12902.0\n",
       "49674   chr12  127125535  127126535  12886.0\n",
       "121435   chr3   36992770   36993770  12855.0\n",
       "56590   chr14   32484242   32485242  12771.0"
      ]
     },
     "execution_count": 108,
     "metadata": {},
     "output_type": "execute_result"
    }
   ],
   "source": [
    "counts.sort_values(by=[3],ascending=False).head(n=30)"
   ]
  },
  {
   "cell_type": "code",
   "execution_count": 109,
   "metadata": {
    "ExecuteTime": {
     "end_time": "2020-04-06T04:06:28.103904Z",
     "start_time": "2020-04-06T04:06:28.093620Z"
    }
   },
   "outputs": [],
   "source": [
    "outliers=counts.loc[counts[3]>4508]"
   ]
  },
  {
   "cell_type": "code",
   "execution_count": 110,
   "metadata": {
    "ExecuteTime": {
     "end_time": "2020-04-06T04:06:35.171865Z",
     "start_time": "2020-04-06T04:06:35.163541Z"
    }
   },
   "outputs": [
    {
     "data": {
      "text/plain": [
       "(2067, 4)"
      ]
     },
     "execution_count": 110,
     "metadata": {},
     "output_type": "execute_result"
    }
   ],
   "source": [
    "outliers.shape"
   ]
  },
  {
   "cell_type": "code",
   "execution_count": 111,
   "metadata": {
    "ExecuteTime": {
     "end_time": "2020-04-06T04:07:08.222484Z",
     "start_time": "2020-04-06T04:07:07.411402Z"
    }
   },
   "outputs": [],
   "source": [
    "outliers.to_csv(\"outliers.tsv\",header=False,index=False,sep='\\t')"
   ]
  },
  {
   "cell_type": "code",
   "execution_count": 85,
   "metadata": {
    "ExecuteTime": {
     "end_time": "2020-04-06T04:04:19.309921Z",
     "start_time": "2020-04-06T04:04:19.267910Z"
    }
   },
   "outputs": [
    {
     "data": {
      "text/plain": [
       "82801.0"
      ]
     },
     "execution_count": 85,
     "metadata": {},
     "output_type": "execute_result"
    }
   ],
   "source": [
    "max(counts[3])"
   ]
  },
  {
   "cell_type": "code",
   "execution_count": 86,
   "metadata": {
    "ExecuteTime": {
     "end_time": "2020-04-06T04:04:19.467631Z",
     "start_time": "2020-04-06T04:04:19.425513Z"
    }
   },
   "outputs": [
    {
     "data": {
      "text/plain": [
       "0.0"
      ]
     },
     "execution_count": 86,
     "metadata": {},
     "output_type": "execute_result"
    }
   ],
   "source": [
    "min(counts[3])"
   ]
  },
  {
   "cell_type": "code",
   "execution_count": 87,
   "metadata": {
    "ExecuteTime": {
     "end_time": "2020-04-06T04:04:19.778636Z",
     "start_time": "2020-04-06T04:04:19.761839Z"
    }
   },
   "outputs": [
    {
     "data": {
      "text/plain": [
       "266.0"
      ]
     },
     "execution_count": 87,
     "metadata": {},
     "output_type": "execute_result"
    }
   ],
   "source": [
    "np.median(counts[3])"
   ]
  },
  {
   "cell_type": "code",
   "execution_count": 88,
   "metadata": {
    "ExecuteTime": {
     "end_time": "2020-04-06T04:04:19.942365Z",
     "start_time": "2020-04-06T04:04:19.931191Z"
    }
   },
   "outputs": [
    {
     "data": {
      "text/plain": [
       "582.6035071925036"
      ]
     },
     "execution_count": 88,
     "metadata": {},
     "output_type": "execute_result"
    }
   ],
   "source": [
    "np.mean(counts[3])"
   ]
  },
  {
   "cell_type": "code",
   "execution_count": 89,
   "metadata": {
    "ExecuteTime": {
     "end_time": "2020-04-06T04:04:20.109949Z",
     "start_time": "2020-04-06T04:04:20.095297Z"
    }
   },
   "outputs": [
    {
     "data": {
      "text/plain": [
       "922.3233926911976"
      ]
     },
     "execution_count": 89,
     "metadata": {},
     "output_type": "execute_result"
    }
   ],
   "source": [
    "np.std(counts[3])"
   ]
  },
  {
   "cell_type": "code",
   "execution_count": 90,
   "metadata": {
    "ExecuteTime": {
     "end_time": "2020-04-06T04:04:20.292420Z",
     "start_time": "2020-04-06T04:04:20.285000Z"
    }
   },
   "outputs": [
    {
     "data": {
      "text/plain": [
       "(206604, 4)"
      ]
     },
     "execution_count": 90,
     "metadata": {},
     "output_type": "execute_result"
    }
   ],
   "source": [
    "counts.shape"
   ]
  },
  {
   "cell_type": "code",
   "execution_count": 91,
   "metadata": {
    "ExecuteTime": {
     "end_time": "2020-04-06T04:04:20.457051Z",
     "start_time": "2020-04-06T04:04:20.452064Z"
    }
   },
   "outputs": [],
   "source": [
    "from scipy.stats import iqr"
   ]
  },
  {
   "cell_type": "code",
   "execution_count": 92,
   "metadata": {
    "ExecuteTime": {
     "end_time": "2020-04-06T04:04:20.652856Z",
     "start_time": "2020-04-06T04:04:20.634824Z"
    }
   },
   "outputs": [],
   "source": [
    "counts_iqr=iqr(counts[3])"
   ]
  },
  {
   "cell_type": "code",
   "execution_count": 93,
   "metadata": {
    "ExecuteTime": {
     "end_time": "2020-04-06T04:04:20.808564Z",
     "start_time": "2020-04-06T04:04:20.800947Z"
    }
   },
   "outputs": [
    {
     "data": {
      "text/plain": [
       "406.0"
      ]
     },
     "execution_count": 93,
     "metadata": {},
     "output_type": "execute_result"
    }
   ],
   "source": [
    "counts_iqr"
   ]
  },
  {
   "cell_type": "code",
   "execution_count": 94,
   "metadata": {
    "ExecuteTime": {
     "end_time": "2020-04-06T04:04:21.298623Z",
     "start_time": "2020-04-06T04:04:21.269622Z"
    }
   },
   "outputs": [],
   "source": [
    "counts_asinh=np.arcsinh(counts[3])"
   ]
  },
  {
   "cell_type": "code",
   "execution_count": 95,
   "metadata": {
    "ExecuteTime": {
     "end_time": "2020-04-06T04:04:21.522642Z",
     "start_time": "2020-04-06T04:04:21.500826Z"
    }
   },
   "outputs": [],
   "source": [
    "counts_log10=np.log10(counts[3]+0.001)"
   ]
  },
  {
   "cell_type": "code",
   "execution_count": 96,
   "metadata": {
    "ExecuteTime": {
     "end_time": "2020-04-06T04:04:21.761855Z",
     "start_time": "2020-04-06T04:04:21.745987Z"
    }
   },
   "outputs": [],
   "source": [
    "counts_log2=np.log2(counts[3]+0.001)"
   ]
  },
  {
   "cell_type": "code",
   "execution_count": 97,
   "metadata": {
    "ExecuteTime": {
     "end_time": "2020-04-06T04:04:22.833655Z",
     "start_time": "2020-04-06T04:04:21.934793Z"
    }
   },
   "outputs": [
    {
     "data": {
      "text/plain": [
       "<Figure size 2000x1280 with 0 Axes>"
      ]
     },
     "metadata": {},
     "output_type": "display_data"
    },
    {
     "data": {
      "image/png": "[encoded data removed]",
      "text/plain": [
       "<Figure size 1008x216 with 4 Axes>"
      ]
     },
     "metadata": {
      "needs_background": "light"
     },
     "output_type": "display_data"
    }
   ],
   "source": [
    "import matplotlib.mlab as mlab\n",
    "import matplotlib.pyplot as plt\n",
    "plt.figure(figsize=(25, 16), dpi= 80, facecolor='w', edgecolor='k')\n",
    "\n",
    "figure, axes = plt.subplots(figsize=(14,3),nrows=1,ncols=4)\n",
    "num_bins = 100\n",
    "# the histogram of the data\n",
    "axes[0].hist(counts[3], num_bins, facecolor='blue', alpha=0.5)\n",
    "axes[0].set_title('Keratinocytes-0h\\n500bp, counts')\n",
    "axes[1].hist(counts_asinh, num_bins, facecolor='blue', alpha=0.5,)\n",
    "axes[1].set_title('Keratinocytes-0h\\n500bp, asinh(counts)')\n",
    "axes[2].hist(counts_log10, num_bins, facecolor='blue', alpha=0.5)\n",
    "axes[2].set_title('Keratinocytes-0h\\n500bp, log10(counts)')\n",
    "axes[3].hist(counts_log2, num_bins, facecolor='blue', alpha=0.5)\n",
    "axes[3].set_title('Keratinocytes-0h\\n500bp, log2(counts)')\n",
    "\n",
    "# Tweak spacing to prevent clipping of ylabel\n",
    "plt.subplots_adjust(left=0.15)\n",
    "plt.show()"
   ]
  },
  {
   "cell_type": "code",
   "execution_count": 98,
   "metadata": {
    "ExecuteTime": {
     "end_time": "2020-04-06T04:04:22.838640Z",
     "start_time": "2020-04-06T04:04:22.835987Z"
    }
   },
   "outputs": [],
   "source": [
    "counts=counts[3]"
   ]
  },
  {
   "cell_type": "code",
   "execution_count": 99,
   "metadata": {
    "ExecuteTime": {
     "end_time": "2020-04-06T04:04:23.532444Z",
     "start_time": "2020-04-06T04:04:22.840874Z"
    }
   },
   "outputs": [
    {
     "data": {
      "text/plain": [
       "[<matplotlib.axis.XTick at 0x7fa435974d68>,\n",
       " <matplotlib.axis.XTick at 0x7fa4358f39b0>,\n",
       " <matplotlib.axis.XTick at 0x7fa435e8de48>,\n",
       " <matplotlib.axis.XTick at 0x7fa434e71898>,\n",
       " <matplotlib.axis.XTick at 0x7fa434e71048>,\n",
       " <matplotlib.axis.XTick at 0x7fa434e71e10>,\n",
       " <matplotlib.axis.XTick at 0x7fa434ec8550>,\n",
       " <matplotlib.axis.XTick at 0x7fa434e71160>,\n",
       " <matplotlib.axis.XTick at 0x7fa434ec8d30>,\n",
       " <matplotlib.axis.XTick at 0x7fa434ec7128>,\n",
       " <matplotlib.axis.XTick at 0x7fa434ec7630>,\n",
       " <matplotlib.axis.XTick at 0x7fa434ec7ba8>,\n",
       " <matplotlib.axis.XTick at 0x7fa434ebe198>,\n",
       " <matplotlib.axis.XTick at 0x7fa434ebe6d8>,\n",
       " <matplotlib.axis.XTick at 0x7fa434ebec50>,\n",
       " <matplotlib.axis.XTick at 0x7fa434eb6208>,\n",
       " <matplotlib.axis.XTick at 0x7fa434eb6780>,\n",
       " <matplotlib.axis.XTick at 0x7fa434ebe780>,\n",
       " <matplotlib.axis.XTick at 0x7fa434ec8e80>,\n",
       " <matplotlib.axis.XTick at 0x7fa434eb6c18>,\n",
       " <matplotlib.axis.XTick at 0x7fa434eb51d0>,\n",
       " <matplotlib.axis.XTick at 0x7fa434eb5748>,\n",
       " <matplotlib.axis.XTick at 0x7fa434eb5cc0>,\n",
       " <matplotlib.axis.XTick at 0x7fa434eb3278>,\n",
       " <matplotlib.axis.XTick at 0x7fa434eb37f0>,\n",
       " <matplotlib.axis.XTick at 0x7fa434eb3d68>,\n",
       " <matplotlib.axis.XTick at 0x7fa434eb35f8>,\n",
       " <matplotlib.axis.XTick at 0x7fa434eb5828>,\n",
       " <matplotlib.axis.XTick at 0x7fa434ec7198>,\n",
       " <matplotlib.axis.XTick at 0x7fa434eaa828>,\n",
       " <matplotlib.axis.XTick at 0x7fa434eaada0>,\n",
       " <matplotlib.axis.XTick at 0x7fa434e27358>,\n",
       " <matplotlib.axis.XTick at 0x7fa434e278d0>,\n",
       " <matplotlib.axis.XTick at 0x7fa434e27e48>,\n",
       " <matplotlib.axis.XTick at 0x7fa434e2c400>,\n",
       " <matplotlib.axis.XTick at 0x7fa434e2c978>,\n",
       " <matplotlib.axis.XTick at 0x7fa434e279b0>,\n",
       " <matplotlib.axis.XTick at 0x7fa434ec86a0>,\n",
       " <matplotlib.axis.XTick at 0x7fa434e2ce10>,\n",
       " <matplotlib.axis.XTick at 0x7fa434e323c8>,\n",
       " <matplotlib.axis.XTick at 0x7fa434e32940>,\n",
       " <matplotlib.axis.XTick at 0x7fa434e32eb8>,\n",
       " <matplotlib.axis.XTick at 0x7fa434e38470>,\n",
       " <matplotlib.axis.XTick at 0x7fa434e389e8>,\n",
       " <matplotlib.axis.XTick at 0x7fa434e38f60>,\n",
       " <matplotlib.axis.XTick at 0x7fa434e383c8>,\n",
       " <matplotlib.axis.XTick at 0x7fa434e327b8>,\n",
       " <matplotlib.axis.XTick at 0x7fa434e3e400>,\n",
       " <matplotlib.axis.XTick at 0x7fa434e3ea20>,\n",
       " <matplotlib.axis.XTick at 0x7fa434e3ee80>,\n",
       " <matplotlib.axis.XTick at 0x7fa434e44550>,\n",
       " <matplotlib.axis.XTick at 0x7fa434e44ac8>,\n",
       " <matplotlib.axis.XTick at 0x7fa434e4a0f0>,\n",
       " <matplotlib.axis.XTick at 0x7fa434e4a5f8>,\n",
       " <matplotlib.axis.XTick at 0x7fa434e4ab70>,\n",
       " <matplotlib.axis.XTick at 0x7fa434e448d0>,\n",
       " <matplotlib.axis.XTick at 0x7fa434e32898>,\n",
       " <matplotlib.axis.XTick at 0x7fa434e510b8>,\n",
       " <matplotlib.axis.XTick at 0x7fa434e515c0>,\n",
       " <matplotlib.axis.XTick at 0x7fa434e51b38>,\n",
       " <matplotlib.axis.XTick at 0x7fa434e56160>,\n",
       " <matplotlib.axis.XTick at 0x7fa434e56668>,\n",
       " <matplotlib.axis.XTick at 0x7fa434e56be0>,\n",
       " <matplotlib.axis.XTick at 0x7fa434e5c198>,\n",
       " <matplotlib.axis.XTick at 0x7fa434e56470>,\n",
       " <matplotlib.axis.XTick at 0x7fa434e51518>,\n",
       " <matplotlib.axis.XTick at 0x7fa434e5c5c0>,\n",
       " <matplotlib.axis.XTick at 0x7fa434e5cc18>,\n",
       " <matplotlib.axis.XTick at 0x7fa434e631d0>,\n",
       " <matplotlib.axis.XTick at 0x7fa434e63748>,\n",
       " <matplotlib.axis.XTick at 0x7fa434e63cc0>,\n",
       " <matplotlib.axis.XTick at 0x7fa434de9278>,\n",
       " <matplotlib.axis.XTick at 0x7fa434de97f0>,\n",
       " <matplotlib.axis.XTick at 0x7fa434de9d68>,\n",
       " <matplotlib.axis.XTick at 0x7fa434de98d0>,\n",
       " <matplotlib.axis.XTick at 0x7fa434e63b38>,\n",
       " <matplotlib.axis.XTick at 0x7fa434def278>,\n",
       " <matplotlib.axis.XTick at 0x7fa434def7b8>,\n",
       " <matplotlib.axis.XTick at 0x7fa434defd30>,\n",
       " <matplotlib.axis.XTick at 0x7fa434df52e8>,\n",
       " <matplotlib.axis.XTick at 0x7fa434df5860>,\n",
       " <matplotlib.axis.XTick at 0x7fa434df5dd8>,\n",
       " <matplotlib.axis.XTick at 0x7fa434dfd390>,\n",
       " <matplotlib.axis.XTick at 0x7fa434df5390>,\n",
       " <matplotlib.axis.XTick at 0x7fa434def5c0>,\n",
       " <matplotlib.axis.XTick at 0x7fa434dfd6d8>,\n",
       " <matplotlib.axis.XTick at 0x7fa434dfde10>,\n",
       " <matplotlib.axis.XTick at 0x7fa434e023c8>,\n",
       " <matplotlib.axis.XTick at 0x7fa434e02940>,\n",
       " <matplotlib.axis.XTick at 0x7fa434e02eb8>,\n",
       " <matplotlib.axis.XTick at 0x7fa434e08470>,\n",
       " <matplotlib.axis.XTick at 0x7fa434e089e8>,\n",
       " <matplotlib.axis.XTick at 0x7fa434e08f60>,\n",
       " <matplotlib.axis.XTick at 0x7fa434e089b0>,\n",
       " <matplotlib.axis.XTick at 0x7fa434e02898>,\n",
       " <matplotlib.axis.XTick at 0x7fa434e5c7b8>,\n",
       " <matplotlib.axis.XTick at 0x7fa434ec8ba8>,\n",
       " <matplotlib.axis.XTick at 0x7fa434e0f6d8>,\n",
       " <matplotlib.axis.XTick at 0x7fa434e0fc50>,\n",
       " <matplotlib.axis.XTick at 0x7fa434e14208>]"
      ]
     },
     "execution_count": 99,
     "metadata": {},
     "output_type": "execute_result"
    },
    {
     "data": {
      "image/png": "[encoded data removed]",
      "text/plain": [
       "<Figure size 1440x216 with 1 Axes>"
      ]
     },
     "metadata": {
      "needs_background": "light"
     },
     "output_type": "display_data"
    }
   ],
   "source": [
    "quantiles=np.quantile(counts, np.arange(0.01,1.01,0.01))\n",
    "figure, axes = plt.subplots(figsize=(20,3),nrows=1)\n",
    "axes.plot(quantiles)\n",
    "axes.set_xticks(np.arange(0,100,1))\n"
   ]
  },
  {
   "cell_type": "code",
   "execution_count": 114,
   "metadata": {
    "ExecuteTime": {
     "end_time": "2020-04-06T05:14:33.567374Z",
     "start_time": "2020-04-06T05:14:33.558552Z"
    }
   },
   "outputs": [
    {
     "data": {
      "text/plain": [
       "4508.970000000001"
      ]
     },
     "execution_count": 114,
     "metadata": {},
     "output_type": "execute_result"
    }
   ],
   "source": [
    "quantiles[98]\n"
   ]
  },
  {
   "cell_type": "code",
   "execution_count": null,
   "metadata": {
    "ExecuteTime": {
     "end_time": "2020-03-18T18:42:51.966429Z",
     "start_time": "2020-03-18T18:42:51.961826Z"
    }
   },
   "outputs": [],
   "source": [
    "import pandas as pd\n",
    "counts_df=pd.DataFrame({'chr':chrom,'summit':indices_for_training,'region_start':indices_for_training-500,'region_end':indices_for_training+500,'count':counts})"
   ]
  },
  {
   "cell_type": "code",
   "execution_count": null,
   "metadata": {
    "ExecuteTime": {
     "end_time": "2020-03-18T18:42:51.982026Z",
     "start_time": "2020-03-18T18:42:51.968145Z"
    }
   },
   "outputs": [],
   "source": [
    "counts_df.head()"
   ]
  },
  {
   "cell_type": "code",
   "execution_count": null,
   "metadata": {
    "ExecuteTime": {
     "end_time": "2020-03-18T18:42:51.996293Z",
     "start_time": "2020-03-18T18:42:51.984884Z"
    }
   },
   "outputs": [],
   "source": [
    "counts_df.sort_values(by='count',ascending=False).head(n=20)"
   ]
  },
  {
   "cell_type": "code",
   "execution_count": null,
   "metadata": {
    "ExecuteTime": {
     "end_time": "2020-03-18T18:44:11.458655Z",
     "start_time": "2020-03-18T18:44:11.454024Z"
    }
   },
   "outputs": [],
   "source": [
    "##allchroms"
   ]
  },
  {
   "cell_type": "code",
   "execution_count": null,
   "metadata": {
    "ExecuteTime": {
     "end_time": "2020-03-18T19:04:33.935985Z",
     "start_time": "2020-03-18T19:04:33.928214Z"
    }
   },
   "outputs": [],
   "source": [
    "chroms=[]\n",
    "medians=[]\n",
    "means=[] \n",
    "stdevs=[] \n",
    "mins=[]\n",
    "maxes=[]\n",
    "summit_counts=[]\n",
    "top20=None"
   ]
  },
  {
   "cell_type": "code",
   "execution_count": null,
   "metadata": {
    "ExecuteTime": {
     "end_time": "2020-03-18T19:06:51.056585Z",
     "start_time": "2020-03-18T19:04:34.186891Z"
    }
   },
   "outputs": [],
   "source": [
    "for chrom in list(range(1,23))+['X','Y']:\n",
    "    chrom='chr'+str(chrom)\n",
    "    print(chrom)\n",
    "    tdb_array=tiledb.DenseArray(tdb_path+\".\"+chrom,mode='r',ctx=ctx)\n",
    "    vals=tdb_array[:]\n",
    "    labs=vals[label_attribute]\n",
    "    ambig=vals[ambig_attribute]\n",
    "    upsample=vals[upsample_attribute]\n",
    "    indices_for_training=np.where(np.logical_and(ambig == 0, upsample >= tdb_partition_thresh_for_upsample))[0]\n",
    "    flank=500\n",
    "    counts=[] \n",
    "    for index in indices_for_training: \n",
    "        counts.append(np.sum(labs[index-flank:index+flank]))\n",
    "    counts=np.array(counts)\n",
    "    chroms.append(chrom)\n",
    "    medians.append(np.median(counts))\n",
    "    means.append(np.mean(counts))\n",
    "    stdevs.append(np.std(counts))\n",
    "    mins.append(np.min(counts))\n",
    "    maxes.append(np.max(counts))\n",
    "    summit_counts.append(len(counts))\n",
    "    counts_df=pd.DataFrame({'chr':chrom,\n",
    "                            'summit':indices_for_training,\n",
    "                            'region_start':indices_for_training-500,\n",
    "                            'region_end':indices_for_training+500,\n",
    "                            'count':counts})\n",
    "    counts_df_top=counts_df.sort_values(by='count',ascending=False).iloc[0:20]\n",
    "    if top20 is None: \n",
    "        top20=counts_df_top \n",
    "    else: \n",
    "        top20=pd.concat([top20,counts_df_top],axis=0)"
   ]
  },
  {
   "cell_type": "code",
   "execution_count": null,
   "metadata": {
    "ExecuteTime": {
     "end_time": "2020-03-18T18:56:52.360268Z",
     "start_time": "2020-03-18T18:56:52.331299Z"
    }
   },
   "outputs": [],
   "source": [
    "top5\n"
   ]
  },
  {
   "cell_type": "code",
   "execution_count": null,
   "metadata": {
    "ExecuteTime": {
     "end_time": "2020-03-18T19:06:53.369497Z",
     "start_time": "2020-03-18T19:06:53.353382Z"
    }
   },
   "outputs": [],
   "source": [
    "top20.to_csv(\"top20_summit_regions_for_5prime_count_K562_DNAse.tsv\",sep='\\t',header=True,index=False)"
   ]
  },
  {
   "cell_type": "code",
   "execution_count": null,
   "metadata": {
    "ExecuteTime": {
     "end_time": "2020-03-18T19:37:31.419764Z",
     "start_time": "2020-03-18T19:37:31.408328Z"
    }
   },
   "outputs": [],
   "source": [
    "stats_df=pd.DataFrame({'chrom':chroms,\n",
    "                       'medians':medians,\n",
    "                      'means':means,\n",
    "                      'stdevs':stdevs,\n",
    "                      'min':mins,\n",
    "                      'max':maxes,\n",
    "                      'numpeaks':summit_counts})\n",
    "\n"
   ]
  },
  {
   "cell_type": "code",
   "execution_count": null,
   "metadata": {
    "ExecuteTime": {
     "end_time": "2020-03-18T19:37:52.993860Z",
     "start_time": "2020-03-18T19:37:52.984708Z"
    }
   },
   "outputs": [],
   "source": [
    "stats_df.to_csv(\"stats_df_by_chrom.tsv\",header=True,index=False)"
   ]
  },
  {
   "cell_type": "code",
   "execution_count": null,
   "metadata": {},
   "outputs": [],
   "source": []
  }
 ],
 "metadata": {
  "kernelspec": {
   "display_name": "Python 3",
   "language": "python",
   "name": "python3"
  },
  "language_info": {
   "codemirror_mode": {
    "name": "ipython",
    "version": 3
   },
   "file_extension": ".py",
   "mimetype": "text/x-python",
   "name": "python",
   "nbconvert_exporter": "python",
   "pygments_lexer": "ipython3",
   "version": "3.7.0"
  }
 },
 "nbformat": 4,
 "nbformat_minor": 2
}
